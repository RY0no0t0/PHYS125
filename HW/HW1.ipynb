{
 "cells": [
  {
   "cell_type": "markdown",
   "id": "1bb7a950",
   "metadata": {},
   "source": [
    "# Homework 1 Question 7"
   ]
  },
  {
   "cell_type": "markdown",
   "id": "765f817d",
   "metadata": {},
   "source": [
    "## Plans\n",
    "\n",
    "The perid of simple harmonic motion is:\n",
    "\n",
    "$T=1/f = \\frac{2\\pi}{\\omega}$\n",
    "\n",
    "For a spring, the angular velocity is\n",
    "\n",
    "$\\omega = \\sqrt{\\frac{k}{m}}$ \n",
    "\n",
    "and is not dependent on amplitude. Therefore, the period is\n",
    "\n",
    "$T = \\frac{2 \\pi}{\\sqrt{\\frac{k}{m}}} = 2 \\pi \\sqrt{\\frac{m}{k}}$\n"
   ]
  },
  {
   "cell_type": "markdown",
   "id": "5941c44a",
   "metadata": {},
   "source": [
    "## Code"
   ]
  },
  {
   "cell_type": "code",
   "execution_count": 1,
   "id": "c8f0f463",
   "metadata": {},
   "outputs": [],
   "source": [
    "from math import pi"
   ]
  },
  {
   "cell_type": "code",
   "execution_count": 2,
   "id": "7a4b653b",
   "metadata": {},
   "outputs": [],
   "source": [
    "m = 0.03\n",
    "k = 0.4"
   ]
  },
  {
   "cell_type": "code",
   "execution_count": 3,
   "id": "48d40988",
   "metadata": {},
   "outputs": [],
   "source": [
    "T = 2*pi*(m/k)**(1/2)"
   ]
  },
  {
   "cell_type": "code",
   "execution_count": 4,
   "id": "2a497c55",
   "metadata": {},
   "outputs": [
    {
     "name": "stdout",
     "output_type": "stream",
     "text": [
      "The period T is 1.72 s\n"
     ]
    }
   ],
   "source": [
    "print(f\"The period T is {T:.2f} s\")"
   ]
  }
 ],
 "metadata": {
  "kernelspec": {
   "display_name": "astro",
   "language": "python",
   "name": "python3"
  },
  "language_info": {
   "codemirror_mode": {
    "name": "ipython",
    "version": 3
   },
   "file_extension": ".py",
   "mimetype": "text/x-python",
   "name": "python",
   "nbconvert_exporter": "python",
   "pygments_lexer": "ipython3",
   "version": "3.12.1"
  }
 },
 "nbformat": 4,
 "nbformat_minor": 5
}
