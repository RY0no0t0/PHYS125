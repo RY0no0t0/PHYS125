{
 "cells": [
  {
   "cell_type": "markdown",
   "metadata": {
    "id": "gY5Xrdi4cyno"
   },
   "source": [
    "# Introduction to Python 1\n",
    "\n",
    "This notebook provides an introduction to the Colab Coding environment and the basics of Python programming.\n",
    "\n"
   ]
  },
  {
   "cell_type": "markdown",
   "metadata": {
    "id": "VGQE_L1gbeVl"
   },
   "source": [
    "## Introduction to Google Colab coding environment\n",
    "\n",
    "We can use a Colab notebook to write codes in Code cells and also use Text cells for documentations. The following sub-sections will provide an overview on how to navigate in this environment.    "
   ]
  },
  {
   "cell_type": "markdown",
   "metadata": {
    "id": "LBBB2sukequB"
   },
   "source": [
    "### Making a new notebook\n",
    "\n",
    "To enter Colab you can search Google Colab. You can access Google Colab with your Amherst College Google account. Once you enter the Google Colab environment you can make a new notebook by clicking on the New Notebook at the front page or by clicking on the New Notebook in the Drive, which creates a new file in your Google drive.\n"
   ]
  },
  {
   "cell_type": "markdown",
   "metadata": {
    "id": "0-ZIbXNWexxh"
   },
   "source": [
    "### Saving a notebook as a pdf file and renaming it\n",
    "\n",
    "To save your notebook as a pdf file you can click on the File icon which opens a dropdown menu and from that menu click on the Print and then Save. To rename your file, click on the Rename icon on the File menu.\n"
   ]
  },
  {
   "cell_type": "markdown",
   "metadata": {
    "id": "W5WNstrPe4x1"
   },
   "source": [
    "### Downloading a notebook as an ipynb file\n",
    "\n",
    "To download your notebook as an ipynb file click on the Download in the File menu and then Download.ipynb.\n",
    "\n"
   ]
  },
  {
   "cell_type": "markdown",
   "metadata": {
    "id": "s1c3a99WfCVf"
   },
   "source": [
    "### Running a code cell\n",
    "\n",
    "You will write codes inside the code cells. To run a code cell you can click on the Run Cell icon on the left side of the cell to execute the code. The other option is to click on the ‘Run all’ icon from the top menu. Note, that 'Run all' will run all of the cells. To run the code directly from the keyboard you can click on enter and shift at the same time.  \n",
    "\n"
   ]
  },
  {
   "cell_type": "markdown",
   "metadata": {
    "id": "V_-xnh2EfKal"
   },
   "source": [
    "### Inserting a code cell\n",
    "\n",
    "To add a code cell you can click ‘+ Code’ from the top menu to insert a code cell.  \n"
   ]
  },
  {
   "cell_type": "markdown",
   "metadata": {
    "id": "pjMCzE6OfayU"
   },
   "source": [
    "### Moving a cell up and down and deleting it\n",
    "\n",
    "To move a cell up or down you can use the up and down side arrows on the  cell actions menu on the right side of the cell. To delete a cell click on the delete icon from the same menu.\n",
    "\n"
   ]
  },
  {
   "cell_type": "markdown",
   "metadata": {
    "id": "Ac-kdU0kf6-A"
   },
   "source": [
    "### Documentation\n",
    "The Colab environment lets you make documentation inside the text cells."
   ]
  },
  {
   "cell_type": "markdown",
   "metadata": {
    "id": "BDq-RhsAgGkp"
   },
   "source": [
    "#### Adding a text cell and deleting it\n",
    "To add a Text cell click on the ‘+ Text’ icon from the top menu.  \n"
   ]
  },
  {
   "cell_type": "markdown",
   "metadata": {
    "id": "q8fdCT7YgbwD"
   },
   "source": [
    "#### Formatting a text cell\n",
    "A text cell allows you to insert an image to and also change the format of your text. Additionally, in each text cell you can type # followed by your text to make a section header. To make a subsection you can add a new text cell and type ## followed by the title of your subsection. After creating your text cell you can type your comments below the header line. Once you finish editing your text cell you can click on the 'close Markdown editor' icon on the right hand side menu of the text cell to close your markdown cell and perform it as a text. To see the format of this text cell you can double click on it."
   ]
  },
  {
   "cell_type": "markdown",
   "metadata": {
    "id": "a0tQB3rthi2d"
   },
   "source": [
    "#### Making a comment in a cell code\n",
    "You can also make a comment about a code line in your code cell. For that you can use the # sign to make your text as a comment and not part of the code.\n"
   ]
  },
  {
   "cell_type": "markdown",
   "metadata": {
    "id": "eLAAtArqiMLn"
   },
   "source": [
    "#### Uncommenting a code\n",
    "This practice is also helpful when you need to remove a line of code from your code cell without deleting that line. By adding a # sign at the beginning of the code line you can remove it from the code cell. If you need to include it back into your code cell you can simply remove the # sign from the beginning of the code and make sure to use the backspace key on the keyboard to align the beginning of the code line with the beginning of the cell.\n"
   ]
  },
  {
   "cell_type": "markdown",
   "metadata": {
    "id": "_zNrWURHeRFl"
   },
   "source": [
    "## Basics of Python I\n",
    "This sub-section will provide an overview of the basics of Python programming such as import functions from different scientific packages, printing the output of codes and also perform algebraic calculations in Python."
   ]
  },
  {
   "cell_type": "markdown",
   "metadata": {
    "id": "X6l2-9C4ikyi"
   },
   "source": [
    "### *print* statement syntax\n",
    "\n",
    "*print* statement is used to print the result of a code cell or just for printing a text or a value as an output.\n",
    "\n",
    "\n",
    "In the second case, the format of the *print* statement is like this print(‘’). The print statement types whatever is inside the single quotation mark. If I type print(‘2’) in a cell and run it, it will print 2.\n",
    "\n",
    "If I type Hello world! inside the single quotation mark, it will print the exact same phrase.\n",
    "\n",
    "Let's run these two codes in two separate code cells as below."
   ]
  },
  {
   "cell_type": "code",
   "execution_count": 2,
   "metadata": {
    "colab": {
     "base_uri": "https://localhost:8080/"
    },
    "id": "IQa8Dmc6j9qy",
    "outputId": "9290172c-f4f5-4345-e761-c1c30bc63fb1"
   },
   "outputs": [
    {
     "name": "stdout",
     "output_type": "stream",
     "text": [
      "2\n"
     ]
    }
   ],
   "source": [
    "print('2')"
   ]
  },
  {
   "cell_type": "code",
   "execution_count": 1,
   "metadata": {
    "colab": {
     "base_uri": "https://localhost:8080/"
    },
    "id": "xwcsVNOPkBU8",
    "outputId": "d58f7242-1fef-44a0-d490-4410942c006c"
   },
   "outputs": [
    {
     "name": "stdout",
     "output_type": "stream",
     "text": [
      "Hello world!\n"
     ]
    }
   ],
   "source": [
    "print('Hello world!')"
   ]
  },
  {
   "cell_type": "markdown",
   "metadata": {
    "id": "R0E1qjp_Mrec"
   },
   "source": [
    "### Definition of a variable\n",
    "Sometimes, we may need to define a variable. For that, we can use an alphabetical letter such as x as the variable. Then we need to assign a value to it by this syntax:\n",
    "\n",
    "x=2\n",
    "\n",
    "If I use the *print* statement as print(x) and run the cell, the output will be 2, which is the value of the variable.\n",
    "\n",
    "Let's try it in the cell below:\n"
   ]
  },
  {
   "cell_type": "code",
   "execution_count": 3,
   "metadata": {
    "colab": {
     "base_uri": "https://localhost:8080/"
    },
    "id": "yyD8uYSkk1qc",
    "outputId": "25d749cf-8d0f-4a74-96d5-c401dc2cd4bb"
   },
   "outputs": [
    {
     "name": "stdout",
     "output_type": "stream",
     "text": [
      "2\n"
     ]
    }
   ],
   "source": [
    "x=2\n",
    "print(x)"
   ]
  },
  {
   "cell_type": "markdown",
   "metadata": {
    "id": "cnIrtmlpk9PN"
   },
   "source": [
    "Note, I didn't use a single quotation inside the paranthesis around x. If\n",
    "\n",
    "*   List item\n",
    "*   List item\n",
    "\n",
    "If I had typed print('x') then I would get x as the output and not the value of the variable x.   "
   ]
  },
  {
   "cell_type": "markdown",
   "metadata": {
    "id": "2MB-rVSlndn0"
   },
   "source": [
    "### Definition of some of the packages\n",
    "In Python programming there are several scientific packages with different functionalities. Usually, the math package is used for simple algebraic calculations or for importing a value such as\n",
    "π to the program. Numpy can be more broadly used for calculations and some other operations such as plotting.  \n",
    "\n",
    "One way to import a function or a value from a package to a program is by using the following syntax:\n",
    "\n",
    "from math import pi\n",
    "\n",
    "This line imports the value of π into the program.\n",
    "\n",
    "If we need to calculate the value of exp(2) we will need to first import the exponential function from the *math* package otherwise the computer gives an error that it does not recognize the *exp* function.\n",
    "\n",
    "As another example, to calculate the value of sin(30), we need to first import the *sin* function from the *math* package. We can also import the *sin* function from the *numpy* package which makes a small difference in the functionality of the sine function, which we will get to in week 2.\n",
    "\n",
    "Let's run the following code cells. I will use # sign to make comments in each code cell for explanations.\n"
   ]
  },
  {
   "cell_type": "code",
   "execution_count": 4,
   "metadata": {
    "colab": {
     "base_uri": "https://localhost:8080/"
    },
    "id": "UyIwY7xzof38",
    "outputId": "b0484547-cba7-4999-a28f-233b59057416"
   },
   "outputs": [
    {
     "name": "stdout",
     "output_type": "stream",
     "text": [
      "3.141592653589793\n"
     ]
    }
   ],
   "source": [
    "# Let's import pi from the math package and print its value.\n",
    "from math import pi\n",
    "print(pi)"
   ]
  },
  {
   "cell_type": "code",
   "execution_count": 5,
   "metadata": {
    "colab": {
     "base_uri": "https://localhost:8080/"
    },
    "id": "9B7BWKLiM39K",
    "outputId": "9b2dadd9-1489-4987-fb25-fc9a8aaa6099"
   },
   "outputs": [
    {
     "name": "stdout",
     "output_type": "stream",
     "text": [
      "7.38905609893065\n"
     ]
    }
   ],
   "source": [
    "# Let's import the exp function from the math package and print its value.\n",
    "\n",
    "from math import exp\n",
    "print(exp(2))\n"
   ]
  },
  {
   "cell_type": "code",
   "execution_count": 6,
   "metadata": {
    "colab": {
     "base_uri": "https://localhost:8080/"
    },
    "id": "8HuaEZbNo5cZ",
    "outputId": "e70e00ff-2c83-46b8-8426-09ebc28147d8"
   },
   "outputs": [
    {
     "name": "stdout",
     "output_type": "stream",
     "text": [
      "0.49999999999999994\n"
     ]
    }
   ],
   "source": [
    "# Let's import the sine function from the math package and print the value\n",
    "# of sin(30).\n",
    "from math import sin\n",
    "print(sin(pi/6))\n",
    "\n",
    "# By typing the argument of the sine function as pi/6\n",
    "# the value of the sine is calculated in the degree mode.\n",
    "# Since I already had imported the pi function from math\n",
    "#package in the previous code cells the computer was able to recognize\n",
    "#it otherwise I had to import the pi function in the first line.\n"
   ]
  },
  {
   "cell_type": "markdown",
   "metadata": {
    "id": "Ey_ZX093X2Mb"
   },
   "source": [
    "### Reading error messages in Python to debug a code line\n",
    "\n",
    "Whenever there is an error in a code line or somewhere in a code cell of a program Python gives an error upon running that cell.\n",
    "The error message includes the line number which is causing the error. By finding that line in the program and reading the error message explanations we can find out what is missing and rectify the source of error and run the code again.\n",
    "\n",
    "For example, in my code cell below I have got an error in the second line of my code. The error is saying that it does not recognize the Print. This error is because I have typed the Print with a capstone letter P, which should be a smaller letter in order for the Python to be recognizable as the *print* statement syntax.\n",
    "\n"
   ]
  },
  {
   "cell_type": "code",
   "execution_count": 7,
   "metadata": {
    "colab": {
     "base_uri": "https://localhost:8080/",
     "height": 180
    },
    "id": "u57U7io9YykW",
    "outputId": "db93e93a-ced5-48ac-bc61-7e6c582398d9"
   },
   "outputs": [
    {
     "ename": "NameError",
     "evalue": "name 'Print' is not defined",
     "output_type": "error",
     "traceback": [
      "\u001b[0;31m---------------------------------------------------------------------------\u001b[0m",
      "\u001b[0;31mNameError\u001b[0m                                 Traceback (most recent call last)",
      "Cell \u001b[0;32mIn[7], line 1\u001b[0m\n\u001b[0;32m----> 1\u001b[0m \u001b[43mPrint\u001b[49m(\u001b[38;5;124m'\u001b[39m\u001b[38;5;124m2\u001b[39m\u001b[38;5;124m'\u001b[39m)\n",
      "\u001b[0;31mNameError\u001b[0m: name 'Print' is not defined"
     ]
    }
   ],
   "source": [
    "Print('2')"
   ]
  },
  {
   "cell_type": "markdown",
   "metadata": {
    "id": "2Kx1P-RvY6ae"
   },
   "source": [
    "### Defining numbers as integer, float or complex and syntax\n",
    "In Python we can define numbers as different formats such as an integer, a float or a complex number. If we type a number without any decimal point in it, Python will treat that number as an integer. If we type the number with a decimal such as 2.0 then Python will treat the same number as a float. In order to write a number as a complex number we will use the letter j to separate the real part from the imaginary part of the complex number. For example, to type the complex number of 1+2i, we will type it as\n",
    "1+2j in our program.\n",
    "\n",
    "See example below."
   ]
  },
  {
   "cell_type": "code",
   "execution_count": 8,
   "metadata": {
    "id": "GGlnLAX5ZTOz"
   },
   "outputs": [
    {
     "name": "stdout",
     "output_type": "stream",
     "text": [
      "(1+2j)\n"
     ]
    }
   ],
   "source": [
    "z=1+2j\n",
    "print(z)"
   ]
  },
  {
   "cell_type": "markdown",
   "metadata": {
    "id": "dQT4RZc2aUsM"
   },
   "source": [
    "### Simple algebraic calculation syntax\n",
    "To add or subtract numbers we can just use the + and - signs. To multiply or divide values we can use * and / signs respectively. To take a number to the power of another number we can use the double star operator, which is **.  \n",
    "\n",
    "We can also assign the value of an algebraic operation to a variable. For that we can use the syntax as below:\n",
    "\n",
    "X=2+1\n",
    "\n",
    "In the code line above Python starts from the right hand side and first adds the value of 1 to 2, which gives 3 and then assigns the result of the right hand side the variable x as its value.\n",
    "\n",
    "You can combine this line of code with a *print* statement to print the value of variable x. Note, that Python always uses the latest value of a variable in a program, for example if we first set x=1  in a program and then in the next line of the program set x=2\\*4 and then use the *print* statement to print the value of x, the output will be 8 and not 1.\n"
   ]
  },
  {
   "cell_type": "markdown",
   "metadata": {
    "id": "EOkzFLtVcWIl"
   },
   "source": [
    "### Computational thinking\n",
    "\n",
    "Computational thinking is a practice, where you can use Python to solve problems. In our class you will use Python to solve some of the homework problems and plot some graphical representations. One of the first steps in solving a physics problem via programming is to translate that problem into a readable syntax for the computer. For example you can define variables to define the value of different physics quantities in a problem that are constant such as the value of the gravitational acceleration $g=9.81$ $m/{s^2}$ or the mass of an object. You can also use algebraic calculations to define your equation as a code and then use the *print* statement to execute the result of your calculations.\n",
    "\n"
   ]
  },
  {
   "cell_type": "markdown",
   "metadata": {
    "id": "Da_BnPGMdGe7"
   },
   "source": [
    "#### Example\n",
    "\n",
    "Let's practice computational thinking by going through a physics problem example and apply the coding syntaxes we went through.\n",
    "\n",
    "Example: Let's find the time it takes a ball that drops from a height of $3.00$ $m$ to reach the ground.\n",
    "\n",
    "One way to solve this problem is by using the kinematics equation for the vertical position of an object as a function of time.\n",
    "\n",
    "So the equation of motion becomes $y=\\frac{1}{2}g{t^2}$.\n",
    "\n",
    "If I assume downward as the positive direction for the y axis and set the origin of the coordinate system at ground level we can find the time as followings:\n",
    "\n",
    "$t$=$\\sqrt{\\frac{2y}{g}}$\n",
    "\n",
    "To translate this problem into a code we need to define a variable for the gravitational acceleration and we can define another variable for the value of the height as followings:\n",
    "\n",
    "$g=9.81$ $m/{s^2}$\n",
    "\n",
    "$h=3.00$ $m$\n",
    "\n",
    "Note that I defined the value of the height as a float but you can also define it as an integer. In the next line, I will define a variable called $t$ and set that equal to the equation needed for solving it.\n",
    "\n",
    "t=sqrt((2*h)/g)\n",
    "\n",
    "In typing the equation, I used parenthesis to indicate that 2*h is in the numerator of the fraction inside the square root function.\n",
    "\n",
    "The line above shows that I also need to import the square root function into the program. For that I need to import *sqrt* from the *math* package and I will need to place the import code line before the line above, otherwise the computer doesn't recognize the *sqrt* function and gives an error. So, I will place the import line as the first code line.\n",
    "\n",
    "Finally, we can use the *print* statement to print the value of t as below:\n",
    "\n",
    "print(t)\n",
    "\n",
    "Below you can see all of the code lines in one place as a code cell.\n",
    "\n",
    "The result will look like below:"
   ]
  },
  {
   "cell_type": "code",
   "execution_count": 9,
   "metadata": {
    "colab": {
     "base_uri": "https://localhost:8080/"
    },
    "id": "TKsvzp82gZWL",
    "outputId": "680d3c6c-dc92-4204-ecde-a0e3e60837ef"
   },
   "outputs": [
    {
     "name": "stdout",
     "output_type": "stream",
     "text": [
      "0.7820618870057751\n"
     ]
    }
   ],
   "source": [
    "from math import sqrt\n",
    "g=9.81 # the unit of g is m/s^2\n",
    "h=3.00 # the unit of h is m.\n",
    "t=sqrt(2*h/g) # the unit of t is s\n",
    "print(t)"
   ]
  },
  {
   "cell_type": "markdown",
   "metadata": {
    "id": "Oun0R6y1g9kJ"
   },
   "source": [
    "You can even make your print result fancier by typing something like:\n",
    "\n",
    "print (‘The value of t is =', t, 'seconds').\n",
    "\n",
    "This code line will print the exact same sentence in the first colon along with the value of variable $t$. This sort of documentation is especially helpful when you have different outputs and would like to know which one is which."
   ]
  },
  {
   "cell_type": "code",
   "execution_count": 10,
   "metadata": {
    "colab": {
     "base_uri": "https://localhost:8080/"
    },
    "executionInfo": {
     "elapsed": 12,
     "status": "ok",
     "timestamp": 1755627093568,
     "user": {
      "displayName": "David Hanneke",
      "userId": "10097366079196731519"
     },
     "user_tz": 240
    },
    "id": "zj4xrZZahKT0",
    "outputId": "1a3b9ff9-fc5d-446e-8364-05cf2a9117c7"
   },
   "outputs": [
    {
     "name": "stdout",
     "output_type": "stream",
     "text": [
      "The value of t is = 0.7820618870057751 seconds\n"
     ]
    }
   ],
   "source": [
    "from math import sqrt\n",
    "g=9.81 # the unit of g is m/s^2\n",
    "h=3.00 # the unit of h is m.\n",
    "t=sqrt(2*h/g)\n",
    "print('The value of t is =', t,'seconds')"
   ]
  },
  {
   "cell_type": "code",
   "execution_count": null,
   "metadata": {},
   "outputs": [],
   "source": []
  }
 ],
 "metadata": {
  "colab": {
   "provenance": [],
   "toc_visible": true
  },
  "kernelspec": {
   "display_name": "astro",
   "language": "python",
   "name": "python3"
  },
  "language_info": {
   "codemirror_mode": {
    "name": "ipython",
    "version": 3
   },
   "file_extension": ".py",
   "mimetype": "text/x-python",
   "name": "python",
   "nbconvert_exporter": "python",
   "pygments_lexer": "ipython3",
   "version": "3.12.1"
  }
 },
 "nbformat": 4,
 "nbformat_minor": 0
}
